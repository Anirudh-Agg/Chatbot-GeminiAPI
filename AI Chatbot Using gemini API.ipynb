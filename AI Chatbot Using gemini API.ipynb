{
 "cells": [
  {
   "cell_type": "code",
   "execution_count": 2,
   "id": "4cd6db1d-a14f-4670-bf1c-b670073d2887",
   "metadata": {},
   "outputs": [],
   "source": [
    "import google.generativeai as genai"
   ]
  },
  {
   "cell_type": "code",
   "execution_count": 3,
   "id": "2e825c87-7af3-40f9-a38c-9353cbc2ad4d",
   "metadata": {},
   "outputs": [],
   "source": [
    "API_KEY = "get a Gemini API key from google "   #key specific to project to connect with gemini's API "
   ]
  },
  {
   "cell_type": "code",
   "execution_count": 4,
   "id": "9f67e476-d3e2-4919-9555-a79bbf801837",
   "metadata": {},
   "outputs": [],
   "source": [
    "genai.configure(api_key=API_KEY)"
   ]
  },
  {
   "cell_type": "code",
   "execution_count": 5,
   "id": "594943fa-d644-41d1-9dd5-f7aadb3ee16b",
   "metadata": {},
   "outputs": [],
   "source": [
    "# Instantiating a model\n",
    "model = genai.GenerativeModel('gemini-pro')"
   ]
  },
  {
   "cell_type": "code",
   "execution_count": 6,
   "id": "edd97545-f426-43d9-a402-777cf1e16acf",
   "metadata": {},
   "outputs": [
    {
     "data": {
      "text/plain": [
       "genai.GenerativeModel(\n",
       "    model_name='models/gemini-pro',\n",
       "    generation_config={},\n",
       "    safety_settings={},\n",
       "    tools=None,\n",
       ")"
      ]
     },
     "execution_count": 6,
     "metadata": {},
     "output_type": "execute_result"
    }
   ],
   "source": [
    "model"
   ]
  },
  {
   "cell_type": "code",
   "execution_count": 7,
   "id": "bc9fe56c-7c2d-4f6b-82b3-3d3ccb65eb57",
   "metadata": {},
   "outputs": [],
   "source": [
    "# Generating a sample response\n",
    "res = model.generate_content(\"write a python program to print first 10 natural numbers\")"
   ]
  },
  {
   "cell_type": "code",
   "execution_count": 8,
   "id": "414d5fb9-2e12-4bfc-94c9-aa685c750058",
   "metadata": {},
   "outputs": [
    {
     "data": {
      "text/plain": [
       "response:\n",
       "GenerateContentResponse(\n",
       "    done=True,\n",
       "    iterator=None,\n",
       "    result=glm.GenerateContentResponse({'candidates': [{'content': {'parts': [{'text': '```python\\n# This Python program prints the first 10 natural numbers.\\n\\n# Create a for loop to iterate from 1 to 10.\\nfor i in range(1, 11):\\n\\n    # Print the current number.\\n    print(i)\\n```'}], 'role': 'model'}, 'finish_reason': 1, 'index': 0, 'safety_ratings': [{'category': 9, 'probability': 1, 'blocked': False}, {'category': 8, 'probability': 1, 'blocked': False}, {'category': 7, 'probability': 1, 'blocked': False}, {'category': 10, 'probability': 1, 'blocked': False}], 'token_count': 0, 'grounding_attributions': []}], 'prompt_feedback': {'safety_ratings': [{'category': 9, 'probability': 1, 'blocked': False}, {'category': 8, 'probability': 1, 'blocked': False}, {'category': 7, 'probability': 1, 'blocked': False}, {'category': 10, 'probability': 1, 'blocked': False}], 'block_reason': 0}}),\n",
       ")"
      ]
     },
     "execution_count": 8,
     "metadata": {},
     "output_type": "execute_result"
    }
   ],
   "source": [
    "res"
   ]
  },
  {
   "cell_type": "code",
   "execution_count": 11,
   "id": "ef3728e2-374b-4859-b8d9-2e03f684b295",
   "metadata": {},
   "outputs": [
    {
     "data": {
      "text/plain": [
       "'```python\\n# This Python program prints the first 10 natural numbers.\\n\\n# Create a for loop to iterate from 1 to 10.\\nfor i in range(1, 11):\\n\\n    # Print the current number.\\n    print(i)\\n```'"
      ]
     },
     "execution_count": 11,
     "metadata": {},
     "output_type": "execute_result"
    }
   ],
   "source": [
    "#we see that output is not readable, so\n",
    "res.text     #this will not process escape sequences"
   ]
  },
  {
   "cell_type": "code",
   "execution_count": 10,
   "id": "b22f5015-ec85-4562-a974-66c2f40425fb",
   "metadata": {},
   "outputs": [
    {
     "name": "stdout",
     "output_type": "stream",
     "text": [
      "```python\n",
      "# This Python program prints the first 10 natural numbers.\n",
      "\n",
      "# Create a for loop to iterate from 1 to 10.\n",
      "for i in range(1, 11):\n",
      "\n",
      "    # Print the current number.\n",
      "    print(i)\n",
      "```\n"
     ]
    }
   ],
   "source": [
    "print(res.text)"
   ]
  },
  {
   "cell_type": "code",
   "execution_count": 13,
   "id": "55da7784-a593-42eb-a52e-e34517415275",
   "metadata": {},
   "outputs": [
    {
     "name": "stdout",
     "output_type": "stream",
     "text": [
      "1\n",
      "2\n",
      "3\n",
      "4\n",
      "5\n",
      "6\n",
      "7\n",
      "8\n",
      "9\n",
      "10\n"
     ]
    }
   ],
   "source": [
    "\n",
    "# This Python program prints the first 10 natural numbers.\n",
    "\n",
    "# Create a for loop to iterate from 1 to 10.\n",
    "for i in range(1, 11):\n",
    "\n",
    "    # Print the current number.\n",
    "    print(i)"
   ]
  },
  {
   "cell_type": "markdown",
   "id": "4caee5c8-83b4-4413-929c-73379fed1726",
   "metadata": {},
   "source": [
    "# Creating a ChatBot"
   ]
  },
  {
   "cell_type": "code",
   "execution_count": 16,
   "id": "443d8b72-09c2-4497-8a7b-236bb8b95b8e",
   "metadata": {},
   "outputs": [
    {
     "name": "stdin",
     "output_type": "stream",
     "text": [
      "What do you want to know today?\n",
      "Your Response:  exit\n"
     ]
    },
    {
     "name": "stdout",
     "output_type": "stream",
     "text": [
      "Gemini: Bye bye!!\n"
     ]
    }
   ],
   "source": [
    "while True:\n",
    "    query = input(\"What do you want to know today?\\nYour Response: \")\n",
    "    if query==\"exit\":\n",
    "        print(\"Gemini: Bye bye!!\")\n",
    "        break\n",
    "    response = model.generate_content(query)\n",
    "    print(\"Gemini: \", response.text)"
   ]
  },
  {
   "cell_type": "code",
   "execution_count": null,
   "id": "9ce55bc7-262e-468f-9988-97a99163d11b",
   "metadata": {},
   "outputs": [],
   "source": []
  }
 ],
 "metadata": {
  "kernelspec": {
   "display_name": "Python 3 (ipykernel)",
   "language": "python",
   "name": "python3"
  },
  "language_info": {
   "codemirror_mode": {
    "name": "ipython",
    "version": 3
   },
   "file_extension": ".py",
   "mimetype": "text/x-python",
   "name": "python",
   "nbconvert_exporter": "python",
   "pygments_lexer": "ipython3",
   "version": "3.12.0"
  }
 },
 "nbformat": 4,
 "nbformat_minor": 5
}
